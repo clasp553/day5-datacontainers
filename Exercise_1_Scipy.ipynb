{
 "cells": [
  {
   "cell_type": "code",
   "execution_count": 1,
   "id": "505aed13",
   "metadata": {},
   "outputs": [],
   "source": [
    "from scipy import linalg\n",
    "import numpy as np"
   ]
  },
  {
   "cell_type": "markdown",
   "id": "2c6dd027",
   "metadata": {},
   "source": [
    "a. Define a matrix A"
   ]
  },
  {
   "cell_type": "code",
   "execution_count": 9,
   "id": "7b28c201",
   "metadata": {},
   "outputs": [
    {
     "name": "stdout",
     "output_type": "stream",
     "text": [
      "[[1 2 3]\n",
      " [4 5 6]\n",
      " [7 8 9]]\n"
     ]
    }
   ],
   "source": [
    "A = np.arange(1,10).reshape(3,3)\n",
    "print(A)"
   ]
  },
  {
   "cell_type": "markdown",
   "id": "6e62362e",
   "metadata": {},
   "source": [
    "b. Define a vector b"
   ]
  },
  {
   "cell_type": "code",
   "execution_count": 5,
   "id": "9b9df378",
   "metadata": {},
   "outputs": [
    {
     "name": "stdout",
     "output_type": "stream",
     "text": [
      "[1 2 3]\n"
     ]
    }
   ],
   "source": [
    "b = np.arange(1,4)\n",
    "print(b)"
   ]
  },
  {
   "cell_type": "markdown",
   "id": "ffb6531f",
   "metadata": {},
   "source": [
    "c. Solve the linear system of equations A x = b"
   ]
  },
  {
   "cell_type": "code",
   "execution_count": 8,
   "id": "52252738",
   "metadata": {},
   "outputs": [
    {
     "name": "stderr",
     "output_type": "stream",
     "text": [
      "C:\\Users\\clasp553\\AppData\\Local\\Temp/ipykernel_1416/4038079409.py:1: LinAlgWarning: Ill-conditioned matrix (rcond=2.20282e-18): result may not be accurate.\n",
      "  x = linalg.solve(A,b)\n"
     ]
    }
   ],
   "source": [
    "x = linalg.solve(A,b)"
   ]
  },
  {
   "cell_type": "markdown",
   "id": "9ad0d83d",
   "metadata": {},
   "source": [
    "d. Check that your solution is correct by plugging it into the equation"
   ]
  },
  {
   "cell_type": "code",
   "execution_count": 16,
   "id": "c2710ebf",
   "metadata": {},
   "outputs": [
    {
     "name": "stdout",
     "output_type": "stream",
     "text": [
      "[1. 2. 3.]\n"
     ]
    }
   ],
   "source": [
    "solution = np.dot(A,x)\n",
    "print(solution)"
   ]
  },
  {
   "cell_type": "markdown",
   "id": "8a4cccfa",
   "metadata": {},
   "source": [
    "e. Repeat steps a-d using a random 3x3 matrix B (instead of the vector b)"
   ]
  },
  {
   "cell_type": "code",
   "execution_count": 27,
   "id": "c672b02f",
   "metadata": {},
   "outputs": [
    {
     "name": "stdout",
     "output_type": "stream",
     "text": [
      "[[3 5 9]\n",
      " [7 2 7]\n",
      " [5 3 5]]\n",
      "[[8. 0. 9.]\n",
      " [0. 0. 7.]\n",
      " [0. 0. 5.]]\n"
     ]
    },
    {
     "name": "stderr",
     "output_type": "stream",
     "text": [
      "C:\\Users\\clasp553\\AppData\\Local\\Temp/ipykernel_1416/3277139369.py:3: LinAlgWarning: Ill-conditioned matrix (rcond=2.20282e-18): result may not be accurate.\n",
      "  y = linalg.solve(A,B) #A y = B\n"
     ]
    }
   ],
   "source": [
    "B = np.random.randint(1,10, size=(3,3))\n",
    "print(B)\n",
    "y = linalg.solve(A,B) #A y = B\n",
    "solution = np.dot(A,y)\n",
    "print(solution)"
   ]
  },
  {
   "cell_type": "markdown",
   "id": "52eb7836",
   "metadata": {},
   "source": [
    "f. Solve the eigenvalue problem for the matrix A and print the eigenvalues and eigenvectors"
   ]
  },
  {
   "cell_type": "code",
   "execution_count": 29,
   "id": "939e7b13",
   "metadata": {},
   "outputs": [
    {
     "name": "stdout",
     "output_type": "stream",
     "text": [
      "[ 1.61168440e+01+0.j -1.11684397e+00+0.j -3.38433605e-16+0.j] [[-0.23197069 -0.78583024  0.40824829]\n",
      " [-0.52532209 -0.08675134 -0.81649658]\n",
      " [-0.8186735   0.61232756  0.40824829]]\n"
     ]
    }
   ],
   "source": [
    "evals, evecs = linalg.eig(A)\n",
    "print(evals, evecs)"
   ]
  },
  {
   "cell_type": "markdown",
   "id": "204b51d4",
   "metadata": {},
   "source": [
    "g. Calculate the inverse, determinant of A"
   ]
  },
  {
   "cell_type": "code",
   "execution_count": 30,
   "id": "9d79fa66",
   "metadata": {},
   "outputs": [
    {
     "name": "stdout",
     "output_type": "stream",
     "text": [
      "[[ 3.15251974e+15 -6.30503948e+15  3.15251974e+15]\n",
      " [-6.30503948e+15  1.26100790e+16 -6.30503948e+15]\n",
      " [ 3.15251974e+15 -6.30503948e+15  3.15251974e+15]]\n",
      "0.024499999999999914\n"
     ]
    }
   ],
   "source": [
    "Ainv = linalg.inv(A)\n",
    "print(Ainv)\n",
    "Ainv_det = linalg.det(Ainv)\n",
    "print(Ainv_det)"
   ]
  },
  {
   "cell_type": "markdown",
   "id": "2588586a",
   "metadata": {},
   "source": [
    "h. Calculate the norm of A with different orders"
   ]
  },
  {
   "cell_type": "code",
   "execution_count": 31,
   "id": "49742263",
   "metadata": {},
   "outputs": [
    {
     "name": "stdout",
     "output_type": "stream",
     "text": [
      "Order -2 matrix A norm:\n",
      "1.4026654043257372e-16\n",
      "Order -1 matrix A norm:\n",
      "12.0\n",
      "Order 1 matrix A norm:\n",
      "18.0\n",
      "Order 2 matrix A norm:\n",
      "16.84810335261421\n"
     ]
    }
   ],
   "source": [
    "i = -2\n",
    "while i < 3:\n",
    "    if i == 0:\n",
    "        i+=1\n",
    "    else:\n",
    "        print(\"Order \" + str(i) + \" matrix A norm:\")\n",
    "        print(linalg.norm(A,i))\n",
    "        i+=1"
   ]
  },
  {
   "cell_type": "code",
   "execution_count": null,
   "id": "8a76b776",
   "metadata": {},
   "outputs": [],
   "source": []
  }
 ],
 "metadata": {
  "kernelspec": {
   "display_name": "Python 3 (ipykernel)",
   "language": "python",
   "name": "python3"
  },
  "language_info": {
   "codemirror_mode": {
    "name": "ipython",
    "version": 3
   },
   "file_extension": ".py",
   "mimetype": "text/x-python",
   "name": "python",
   "nbconvert_exporter": "python",
   "pygments_lexer": "ipython3",
   "version": "3.9.7"
  }
 },
 "nbformat": 4,
 "nbformat_minor": 5
}
